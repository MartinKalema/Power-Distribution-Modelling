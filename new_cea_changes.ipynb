{
 "cells": [
  {
   "cell_type": "code",
   "execution_count": 73,
   "metadata": {},
   "outputs": [],
   "source": [
    "import pandas as pd\n",
    "import numpy as np"
   ]
  },
  {
   "cell_type": "code",
   "execution_count": 74,
   "metadata": {},
   "outputs": [],
   "source": [
    "avg_hh_dd = pd.read_excel('avg_hh_demand_reformatted.xlsx')\n",
    "min_hh_dd = pd.read_excel('min_hh_demand_reformatted.xlsx')\n",
    "max_hh_dd = pd.read_excel('max_hh_demand_reformatted.xlsx')\n",
    "demand_supply = pd.read_excel('Demand_Supply.xlsx')"
   ]
  },
  {
   "cell_type": "code",
   "execution_count": 75,
   "metadata": {},
   "outputs": [
    {
     "data": {
      "text/plain": [
       "array([[0.01299518, 0.01387844, 0.01243753, ..., 0.02338703, 0.01675449,\n",
       "        0.01516877],\n",
       "       [0.01325735, 0.01338088, 0.01093236, ..., 0.02660079, 0.0168373 ,\n",
       "        0.01574688],\n",
       "       [0.01354882, 0.0115765 , 0.01310933, ..., 0.02859386, 0.01878637,\n",
       "        0.01453823],\n",
       "       ...,\n",
       "       [0.01412085, 0.0113563 , 0.01208783, ..., 0.02397034, 0.01697854,\n",
       "        0.01390405],\n",
       "       [0.01488262, 0.01302829, 0.01300647, ..., 0.02301496, 0.01739208,\n",
       "        0.01477267],\n",
       "       [0.012895  , 0.01352935, 0.01301291, ..., 0.02755249, 0.01872205,\n",
       "        0.01399997]])"
      ]
     },
     "execution_count": 75,
     "metadata": {},
     "output_type": "execute_result"
    }
   ],
   "source": [
    "avg_hh_dd.values"
   ]
  },
  {
   "cell_type": "code",
   "execution_count": 76,
   "metadata": {},
   "outputs": [],
   "source": [
    "min_power_allocation_threshold_per_hh = np.multiply(avg_hh_dd, 0.5)"
   ]
  },
  {
   "cell_type": "markdown",
   "metadata": {},
   "source": [
    "## min_power_allocation = 0.5 * D_i\n",
    "## SS_power >= sum(min_power_allocation)"
   ]
  },
  {
   "cell_type": "code",
   "execution_count": 77,
   "metadata": {},
   "outputs": [
    {
     "data": {
      "text/plain": [
       "array([[0.00649759, 0.00693922, 0.00621876, ..., 0.01169352, 0.00837724,\n",
       "        0.00758438],\n",
       "       [0.00662867, 0.00669044, 0.00546618, ..., 0.0133004 , 0.00841865,\n",
       "        0.00787344],\n",
       "       [0.00677441, 0.00578825, 0.00655467, ..., 0.01429693, 0.00939318,\n",
       "        0.00726911],\n",
       "       ...,\n",
       "       [0.00706042, 0.00567815, 0.00604392, ..., 0.01198517, 0.00848927,\n",
       "        0.00695203],\n",
       "       [0.00744131, 0.00651414, 0.00650323, ..., 0.01150748, 0.00869604,\n",
       "        0.00738633],\n",
       "       [0.0064475 , 0.00676467, 0.00650646, ..., 0.01377625, 0.00936103,\n",
       "        0.00699998]])"
      ]
     },
     "execution_count": 77,
     "metadata": {},
     "output_type": "execute_result"
    }
   ],
   "source": [
    "min_power_allocation_threshold_per_hh.values"
   ]
  },
  {
   "cell_type": "code",
   "execution_count": 78,
   "metadata": {},
   "outputs": [],
   "source": [
    "sum_min_power_allocation = min_power_allocation_threshold_per_hh.sum()"
   ]
  },
  {
   "cell_type": "code",
   "execution_count": 79,
   "metadata": {},
   "outputs": [
    {
     "data": {
      "text/plain": [
       "array([1.04769275, 0.96851561, 0.91266447, 1.12816868, 1.36917139,\n",
       "       1.793472  , 2.23904018, 3.51134512, 6.07837644, 5.56481721,\n",
       "       3.81722248, 4.17496705, 3.21385093, 4.06933873, 4.69986428,\n",
       "       5.25687653, 4.28031443, 5.45733134, 5.29317231, 3.86171155,\n",
       "       2.71605434, 2.00019426, 1.3775816 , 1.22098362])"
      ]
     },
     "execution_count": 79,
     "metadata": {},
     "output_type": "execute_result"
    }
   ],
   "source": [
    "sum_min_power_allocation.values"
   ]
  },
  {
   "cell_type": "code",
   "execution_count": 80,
   "metadata": {},
   "outputs": [],
   "source": [
    "ss_power = demand_supply['SS_Power'].values"
   ]
  },
  {
   "cell_type": "code",
   "execution_count": 81,
   "metadata": {},
   "outputs": [
    {
     "data": {
      "text/plain": [
       "array([ 5.132,  4.412,  3.816,  3.428,  3.34 ,  3.412,  3.908,  3.792,\n",
       "        6.468,  5.832,  7.832,  7.892,  7.4  ,  8.868,  7.888,  7.592,\n",
       "        8.268,  9.384,  8.016,  9.764, 12.268, 10.984,  8.532,  6.188])"
      ]
     },
     "execution_count": 81,
     "metadata": {},
     "output_type": "execute_result"
    }
   ],
   "source": [
    "ss_power"
   ]
  },
  {
   "cell_type": "code",
   "execution_count": 82,
   "metadata": {},
   "outputs": [
    {
     "name": "stdout",
     "output_type": "stream",
     "text": [
      "[ True  True  True  True  True  True  True  True  True  True  True  True\n",
      "  True  True  True  True  True  True  True  True  True  True  True  True]\n"
     ]
    }
   ],
   "source": [
    "print(ss_power >= sum_min_power_allocation.values)"
   ]
  },
  {
   "cell_type": "code",
   "execution_count": 83,
   "metadata": {},
   "outputs": [],
   "source": [
    "columns_avg = ['min_power_allocation_threshold_hour_1',\n",
    "                'min_power_allocation_threshold_hour_2',\n",
    "                'min_power_allocation_threshold_hour_3',\n",
    "                'min_power_allocation_threshold_hour_4',\n",
    "                'min_power_allocation_threshold_hour_5',\n",
    "                'min_power_allocation_threshold_hour_6',\n",
    "                'min_power_allocation_threshold_hour_7',\n",
    "                'min_power_allocation_threshold_hour_8',\n",
    "                'min_power_allocation_threshold_hour_9',\n",
    "                'min_power_allocation_threshold_hour_10',\n",
    "                'min_power_allocation_threshold_hour_11',\n",
    "                'min_power_allocation_threshold_hour_12',\n",
    "                'min_power_allocation_threshold_hour_13',\n",
    "                'min_power_allocation_threshold_hour_14',\n",
    "                'min_power_allocation_threshold_hour_15',\n",
    "                'min_power_allocation_threshold_hour_16',\n",
    "                'min_power_allocation_threshold_hour_17',\n",
    "                'min_power_allocation_threshold_hour_18',\n",
    "                'min_power_allocation_threshold_hour_19',\n",
    "                'min_power_allocation_threshold_hour_20',\n",
    "                'min_power_allocation_threshold_hour_21',\n",
    "                'min_power_allocation_threshold_hour_22',\n",
    "                'min_power_allocation_threshold_hour_23',\n",
    "                'min_power_allocation_threshold_hour_24']\n",
    "\n"
   ]
  },
  {
   "cell_type": "code",
   "execution_count": 84,
   "metadata": {},
   "outputs": [
    {
     "data": {
      "text/plain": [
       "array([[0.00649759, 0.00693922, 0.00621876, ..., 0.01169352, 0.00837724,\n",
       "        0.00758438],\n",
       "       [0.00662867, 0.00669044, 0.00546618, ..., 0.0133004 , 0.00841865,\n",
       "        0.00787344],\n",
       "       [0.00677441, 0.00578825, 0.00655467, ..., 0.01429693, 0.00939318,\n",
       "        0.00726911],\n",
       "       ...,\n",
       "       [0.00706042, 0.00567815, 0.00604392, ..., 0.01198517, 0.00848927,\n",
       "        0.00695203],\n",
       "       [0.00744131, 0.00651414, 0.00650323, ..., 0.01150748, 0.00869604,\n",
       "        0.00738633],\n",
       "       [0.0064475 , 0.00676467, 0.00650646, ..., 0.01377625, 0.00936103,\n",
       "        0.00699998]])"
      ]
     },
     "execution_count": 84,
     "metadata": {},
     "output_type": "execute_result"
    }
   ],
   "source": [
    "min_power_allocation_threshold_per_hh.values"
   ]
  },
  {
   "cell_type": "code",
   "execution_count": 85,
   "metadata": {},
   "outputs": [],
   "source": [
    "\n",
    "min_power_allocation_threshold_per_hh = pd.DataFrame(min_power_allocation_threshold_per_hh.values, columns=columns_avg)"
   ]
  },
  {
   "cell_type": "code",
   "execution_count": 86,
   "metadata": {},
   "outputs": [
    {
     "data": {
      "text/html": [
       "<div>\n",
       "<style scoped>\n",
       "    .dataframe tbody tr th:only-of-type {\n",
       "        vertical-align: middle;\n",
       "    }\n",
       "\n",
       "    .dataframe tbody tr th {\n",
       "        vertical-align: top;\n",
       "    }\n",
       "\n",
       "    .dataframe thead th {\n",
       "        text-align: right;\n",
       "    }\n",
       "</style>\n",
       "<table border=\"1\" class=\"dataframe\">\n",
       "  <thead>\n",
       "    <tr style=\"text-align: right;\">\n",
       "      <th></th>\n",
       "      <th>min_power_allocation_threshold_hour_1</th>\n",
       "      <th>min_power_allocation_threshold_hour_2</th>\n",
       "      <th>min_power_allocation_threshold_hour_3</th>\n",
       "      <th>min_power_allocation_threshold_hour_4</th>\n",
       "      <th>min_power_allocation_threshold_hour_5</th>\n",
       "      <th>min_power_allocation_threshold_hour_6</th>\n",
       "      <th>min_power_allocation_threshold_hour_7</th>\n",
       "      <th>min_power_allocation_threshold_hour_8</th>\n",
       "      <th>min_power_allocation_threshold_hour_9</th>\n",
       "      <th>min_power_allocation_threshold_hour_10</th>\n",
       "      <th>...</th>\n",
       "      <th>min_power_allocation_threshold_hour_15</th>\n",
       "      <th>min_power_allocation_threshold_hour_16</th>\n",
       "      <th>min_power_allocation_threshold_hour_17</th>\n",
       "      <th>min_power_allocation_threshold_hour_18</th>\n",
       "      <th>min_power_allocation_threshold_hour_19</th>\n",
       "      <th>min_power_allocation_threshold_hour_20</th>\n",
       "      <th>min_power_allocation_threshold_hour_21</th>\n",
       "      <th>min_power_allocation_threshold_hour_22</th>\n",
       "      <th>min_power_allocation_threshold_hour_23</th>\n",
       "      <th>min_power_allocation_threshold_hour_24</th>\n",
       "    </tr>\n",
       "  </thead>\n",
       "  <tbody>\n",
       "    <tr>\n",
       "      <th>0</th>\n",
       "      <td>0.006498</td>\n",
       "      <td>0.006939</td>\n",
       "      <td>0.006219</td>\n",
       "      <td>0.007346</td>\n",
       "      <td>0.008007</td>\n",
       "      <td>0.010547</td>\n",
       "      <td>0.012767</td>\n",
       "      <td>0.024602</td>\n",
       "      <td>0.039511</td>\n",
       "      <td>0.037193</td>\n",
       "      <td>...</td>\n",
       "      <td>0.028154</td>\n",
       "      <td>0.031155</td>\n",
       "      <td>0.026277</td>\n",
       "      <td>0.035430</td>\n",
       "      <td>0.033555</td>\n",
       "      <td>0.023543</td>\n",
       "      <td>0.017974</td>\n",
       "      <td>0.011694</td>\n",
       "      <td>0.008377</td>\n",
       "      <td>0.007584</td>\n",
       "    </tr>\n",
       "    <tr>\n",
       "      <th>1</th>\n",
       "      <td>0.006629</td>\n",
       "      <td>0.006690</td>\n",
       "      <td>0.005466</td>\n",
       "      <td>0.007201</td>\n",
       "      <td>0.008922</td>\n",
       "      <td>0.010244</td>\n",
       "      <td>0.014650</td>\n",
       "      <td>0.020826</td>\n",
       "      <td>0.034548</td>\n",
       "      <td>0.039240</td>\n",
       "      <td>...</td>\n",
       "      <td>0.031830</td>\n",
       "      <td>0.033233</td>\n",
       "      <td>0.025071</td>\n",
       "      <td>0.035179</td>\n",
       "      <td>0.030301</td>\n",
       "      <td>0.027220</td>\n",
       "      <td>0.016491</td>\n",
       "      <td>0.013300</td>\n",
       "      <td>0.008419</td>\n",
       "      <td>0.007873</td>\n",
       "    </tr>\n",
       "    <tr>\n",
       "      <th>2</th>\n",
       "      <td>0.006774</td>\n",
       "      <td>0.005788</td>\n",
       "      <td>0.006555</td>\n",
       "      <td>0.007650</td>\n",
       "      <td>0.009649</td>\n",
       "      <td>0.012585</td>\n",
       "      <td>0.014617</td>\n",
       "      <td>0.024904</td>\n",
       "      <td>0.034765</td>\n",
       "      <td>0.032839</td>\n",
       "      <td>...</td>\n",
       "      <td>0.032887</td>\n",
       "      <td>0.032558</td>\n",
       "      <td>0.026122</td>\n",
       "      <td>0.035581</td>\n",
       "      <td>0.031173</td>\n",
       "      <td>0.026583</td>\n",
       "      <td>0.015717</td>\n",
       "      <td>0.014297</td>\n",
       "      <td>0.009393</td>\n",
       "      <td>0.007269</td>\n",
       "    </tr>\n",
       "    <tr>\n",
       "      <th>3</th>\n",
       "      <td>0.005904</td>\n",
       "      <td>0.006736</td>\n",
       "      <td>0.006183</td>\n",
       "      <td>0.007571</td>\n",
       "      <td>0.009296</td>\n",
       "      <td>0.010320</td>\n",
       "      <td>0.013796</td>\n",
       "      <td>0.020530</td>\n",
       "      <td>0.041937</td>\n",
       "      <td>0.036472</td>\n",
       "      <td>...</td>\n",
       "      <td>0.032162</td>\n",
       "      <td>0.034830</td>\n",
       "      <td>0.030134</td>\n",
       "      <td>0.034985</td>\n",
       "      <td>0.030998</td>\n",
       "      <td>0.026054</td>\n",
       "      <td>0.018600</td>\n",
       "      <td>0.012989</td>\n",
       "      <td>0.009390</td>\n",
       "      <td>0.007824</td>\n",
       "    </tr>\n",
       "    <tr>\n",
       "      <th>4</th>\n",
       "      <td>0.006736</td>\n",
       "      <td>0.006153</td>\n",
       "      <td>0.005220</td>\n",
       "      <td>0.006501</td>\n",
       "      <td>0.007746</td>\n",
       "      <td>0.011872</td>\n",
       "      <td>0.013645</td>\n",
       "      <td>0.022661</td>\n",
       "      <td>0.042348</td>\n",
       "      <td>0.033292</td>\n",
       "      <td>...</td>\n",
       "      <td>0.028944</td>\n",
       "      <td>0.030976</td>\n",
       "      <td>0.030415</td>\n",
       "      <td>0.037825</td>\n",
       "      <td>0.035205</td>\n",
       "      <td>0.026995</td>\n",
       "      <td>0.018780</td>\n",
       "      <td>0.011838</td>\n",
       "      <td>0.009648</td>\n",
       "      <td>0.007910</td>\n",
       "    </tr>\n",
       "    <tr>\n",
       "      <th>...</th>\n",
       "      <td>...</td>\n",
       "      <td>...</td>\n",
       "      <td>...</td>\n",
       "      <td>...</td>\n",
       "      <td>...</td>\n",
       "      <td>...</td>\n",
       "      <td>...</td>\n",
       "      <td>...</td>\n",
       "      <td>...</td>\n",
       "      <td>...</td>\n",
       "      <td>...</td>\n",
       "      <td>...</td>\n",
       "      <td>...</td>\n",
       "      <td>...</td>\n",
       "      <td>...</td>\n",
       "      <td>...</td>\n",
       "      <td>...</td>\n",
       "      <td>...</td>\n",
       "      <td>...</td>\n",
       "      <td>...</td>\n",
       "      <td>...</td>\n",
       "    </tr>\n",
       "    <tr>\n",
       "      <th>151</th>\n",
       "      <td>0.006297</td>\n",
       "      <td>0.005906</td>\n",
       "      <td>0.005185</td>\n",
       "      <td>0.007815</td>\n",
       "      <td>0.009341</td>\n",
       "      <td>0.011847</td>\n",
       "      <td>0.015139</td>\n",
       "      <td>0.020726</td>\n",
       "      <td>0.038189</td>\n",
       "      <td>0.034159</td>\n",
       "      <td>...</td>\n",
       "      <td>0.028956</td>\n",
       "      <td>0.031351</td>\n",
       "      <td>0.025839</td>\n",
       "      <td>0.038673</td>\n",
       "      <td>0.033851</td>\n",
       "      <td>0.024585</td>\n",
       "      <td>0.018599</td>\n",
       "      <td>0.011740</td>\n",
       "      <td>0.008790</td>\n",
       "      <td>0.007704</td>\n",
       "    </tr>\n",
       "    <tr>\n",
       "      <th>152</th>\n",
       "      <td>0.006855</td>\n",
       "      <td>0.007013</td>\n",
       "      <td>0.006272</td>\n",
       "      <td>0.007000</td>\n",
       "      <td>0.009414</td>\n",
       "      <td>0.010587</td>\n",
       "      <td>0.012672</td>\n",
       "      <td>0.021010</td>\n",
       "      <td>0.037098</td>\n",
       "      <td>0.035514</td>\n",
       "      <td>...</td>\n",
       "      <td>0.027192</td>\n",
       "      <td>0.029954</td>\n",
       "      <td>0.027910</td>\n",
       "      <td>0.034698</td>\n",
       "      <td>0.036890</td>\n",
       "      <td>0.022767</td>\n",
       "      <td>0.015509</td>\n",
       "      <td>0.012645</td>\n",
       "      <td>0.008262</td>\n",
       "      <td>0.006989</td>\n",
       "    </tr>\n",
       "    <tr>\n",
       "      <th>153</th>\n",
       "      <td>0.007060</td>\n",
       "      <td>0.005678</td>\n",
       "      <td>0.006044</td>\n",
       "      <td>0.006799</td>\n",
       "      <td>0.008044</td>\n",
       "      <td>0.011164</td>\n",
       "      <td>0.015315</td>\n",
       "      <td>0.022029</td>\n",
       "      <td>0.040897</td>\n",
       "      <td>0.032240</td>\n",
       "      <td>...</td>\n",
       "      <td>0.033622</td>\n",
       "      <td>0.032805</td>\n",
       "      <td>0.024701</td>\n",
       "      <td>0.031156</td>\n",
       "      <td>0.036789</td>\n",
       "      <td>0.024932</td>\n",
       "      <td>0.018660</td>\n",
       "      <td>0.011985</td>\n",
       "      <td>0.008489</td>\n",
       "      <td>0.006952</td>\n",
       "    </tr>\n",
       "    <tr>\n",
       "      <th>154</th>\n",
       "      <td>0.007441</td>\n",
       "      <td>0.006514</td>\n",
       "      <td>0.006503</td>\n",
       "      <td>0.006772</td>\n",
       "      <td>0.008961</td>\n",
       "      <td>0.011988</td>\n",
       "      <td>0.013656</td>\n",
       "      <td>0.024504</td>\n",
       "      <td>0.042715</td>\n",
       "      <td>0.038695</td>\n",
       "      <td>...</td>\n",
       "      <td>0.026899</td>\n",
       "      <td>0.035465</td>\n",
       "      <td>0.028937</td>\n",
       "      <td>0.036257</td>\n",
       "      <td>0.038125</td>\n",
       "      <td>0.023666</td>\n",
       "      <td>0.016832</td>\n",
       "      <td>0.011507</td>\n",
       "      <td>0.008696</td>\n",
       "      <td>0.007386</td>\n",
       "    </tr>\n",
       "    <tr>\n",
       "      <th>155</th>\n",
       "      <td>0.006447</td>\n",
       "      <td>0.006765</td>\n",
       "      <td>0.006506</td>\n",
       "      <td>0.006635</td>\n",
       "      <td>0.008461</td>\n",
       "      <td>0.012678</td>\n",
       "      <td>0.012779</td>\n",
       "      <td>0.020402</td>\n",
       "      <td>0.035453</td>\n",
       "      <td>0.036233</td>\n",
       "      <td>...</td>\n",
       "      <td>0.028629</td>\n",
       "      <td>0.033482</td>\n",
       "      <td>0.028643</td>\n",
       "      <td>0.037343</td>\n",
       "      <td>0.036191</td>\n",
       "      <td>0.025248</td>\n",
       "      <td>0.019203</td>\n",
       "      <td>0.013776</td>\n",
       "      <td>0.009361</td>\n",
       "      <td>0.007000</td>\n",
       "    </tr>\n",
       "  </tbody>\n",
       "</table>\n",
       "<p>156 rows × 24 columns</p>\n",
       "</div>"
      ],
      "text/plain": [
       "     min_power_allocation_threshold_hour_1  \\\n",
       "0                                 0.006498   \n",
       "1                                 0.006629   \n",
       "2                                 0.006774   \n",
       "3                                 0.005904   \n",
       "4                                 0.006736   \n",
       "..                                     ...   \n",
       "151                               0.006297   \n",
       "152                               0.006855   \n",
       "153                               0.007060   \n",
       "154                               0.007441   \n",
       "155                               0.006447   \n",
       "\n",
       "     min_power_allocation_threshold_hour_2  \\\n",
       "0                                 0.006939   \n",
       "1                                 0.006690   \n",
       "2                                 0.005788   \n",
       "3                                 0.006736   \n",
       "4                                 0.006153   \n",
       "..                                     ...   \n",
       "151                               0.005906   \n",
       "152                               0.007013   \n",
       "153                               0.005678   \n",
       "154                               0.006514   \n",
       "155                               0.006765   \n",
       "\n",
       "     min_power_allocation_threshold_hour_3  \\\n",
       "0                                 0.006219   \n",
       "1                                 0.005466   \n",
       "2                                 0.006555   \n",
       "3                                 0.006183   \n",
       "4                                 0.005220   \n",
       "..                                     ...   \n",
       "151                               0.005185   \n",
       "152                               0.006272   \n",
       "153                               0.006044   \n",
       "154                               0.006503   \n",
       "155                               0.006506   \n",
       "\n",
       "     min_power_allocation_threshold_hour_4  \\\n",
       "0                                 0.007346   \n",
       "1                                 0.007201   \n",
       "2                                 0.007650   \n",
       "3                                 0.007571   \n",
       "4                                 0.006501   \n",
       "..                                     ...   \n",
       "151                               0.007815   \n",
       "152                               0.007000   \n",
       "153                               0.006799   \n",
       "154                               0.006772   \n",
       "155                               0.006635   \n",
       "\n",
       "     min_power_allocation_threshold_hour_5  \\\n",
       "0                                 0.008007   \n",
       "1                                 0.008922   \n",
       "2                                 0.009649   \n",
       "3                                 0.009296   \n",
       "4                                 0.007746   \n",
       "..                                     ...   \n",
       "151                               0.009341   \n",
       "152                               0.009414   \n",
       "153                               0.008044   \n",
       "154                               0.008961   \n",
       "155                               0.008461   \n",
       "\n",
       "     min_power_allocation_threshold_hour_6  \\\n",
       "0                                 0.010547   \n",
       "1                                 0.010244   \n",
       "2                                 0.012585   \n",
       "3                                 0.010320   \n",
       "4                                 0.011872   \n",
       "..                                     ...   \n",
       "151                               0.011847   \n",
       "152                               0.010587   \n",
       "153                               0.011164   \n",
       "154                               0.011988   \n",
       "155                               0.012678   \n",
       "\n",
       "     min_power_allocation_threshold_hour_7  \\\n",
       "0                                 0.012767   \n",
       "1                                 0.014650   \n",
       "2                                 0.014617   \n",
       "3                                 0.013796   \n",
       "4                                 0.013645   \n",
       "..                                     ...   \n",
       "151                               0.015139   \n",
       "152                               0.012672   \n",
       "153                               0.015315   \n",
       "154                               0.013656   \n",
       "155                               0.012779   \n",
       "\n",
       "     min_power_allocation_threshold_hour_8  \\\n",
       "0                                 0.024602   \n",
       "1                                 0.020826   \n",
       "2                                 0.024904   \n",
       "3                                 0.020530   \n",
       "4                                 0.022661   \n",
       "..                                     ...   \n",
       "151                               0.020726   \n",
       "152                               0.021010   \n",
       "153                               0.022029   \n",
       "154                               0.024504   \n",
       "155                               0.020402   \n",
       "\n",
       "     min_power_allocation_threshold_hour_9  \\\n",
       "0                                 0.039511   \n",
       "1                                 0.034548   \n",
       "2                                 0.034765   \n",
       "3                                 0.041937   \n",
       "4                                 0.042348   \n",
       "..                                     ...   \n",
       "151                               0.038189   \n",
       "152                               0.037098   \n",
       "153                               0.040897   \n",
       "154                               0.042715   \n",
       "155                               0.035453   \n",
       "\n",
       "     min_power_allocation_threshold_hour_10  ...  \\\n",
       "0                                  0.037193  ...   \n",
       "1                                  0.039240  ...   \n",
       "2                                  0.032839  ...   \n",
       "3                                  0.036472  ...   \n",
       "4                                  0.033292  ...   \n",
       "..                                      ...  ...   \n",
       "151                                0.034159  ...   \n",
       "152                                0.035514  ...   \n",
       "153                                0.032240  ...   \n",
       "154                                0.038695  ...   \n",
       "155                                0.036233  ...   \n",
       "\n",
       "     min_power_allocation_threshold_hour_15  \\\n",
       "0                                  0.028154   \n",
       "1                                  0.031830   \n",
       "2                                  0.032887   \n",
       "3                                  0.032162   \n",
       "4                                  0.028944   \n",
       "..                                      ...   \n",
       "151                                0.028956   \n",
       "152                                0.027192   \n",
       "153                                0.033622   \n",
       "154                                0.026899   \n",
       "155                                0.028629   \n",
       "\n",
       "     min_power_allocation_threshold_hour_16  \\\n",
       "0                                  0.031155   \n",
       "1                                  0.033233   \n",
       "2                                  0.032558   \n",
       "3                                  0.034830   \n",
       "4                                  0.030976   \n",
       "..                                      ...   \n",
       "151                                0.031351   \n",
       "152                                0.029954   \n",
       "153                                0.032805   \n",
       "154                                0.035465   \n",
       "155                                0.033482   \n",
       "\n",
       "     min_power_allocation_threshold_hour_17  \\\n",
       "0                                  0.026277   \n",
       "1                                  0.025071   \n",
       "2                                  0.026122   \n",
       "3                                  0.030134   \n",
       "4                                  0.030415   \n",
       "..                                      ...   \n",
       "151                                0.025839   \n",
       "152                                0.027910   \n",
       "153                                0.024701   \n",
       "154                                0.028937   \n",
       "155                                0.028643   \n",
       "\n",
       "     min_power_allocation_threshold_hour_18  \\\n",
       "0                                  0.035430   \n",
       "1                                  0.035179   \n",
       "2                                  0.035581   \n",
       "3                                  0.034985   \n",
       "4                                  0.037825   \n",
       "..                                      ...   \n",
       "151                                0.038673   \n",
       "152                                0.034698   \n",
       "153                                0.031156   \n",
       "154                                0.036257   \n",
       "155                                0.037343   \n",
       "\n",
       "     min_power_allocation_threshold_hour_19  \\\n",
       "0                                  0.033555   \n",
       "1                                  0.030301   \n",
       "2                                  0.031173   \n",
       "3                                  0.030998   \n",
       "4                                  0.035205   \n",
       "..                                      ...   \n",
       "151                                0.033851   \n",
       "152                                0.036890   \n",
       "153                                0.036789   \n",
       "154                                0.038125   \n",
       "155                                0.036191   \n",
       "\n",
       "     min_power_allocation_threshold_hour_20  \\\n",
       "0                                  0.023543   \n",
       "1                                  0.027220   \n",
       "2                                  0.026583   \n",
       "3                                  0.026054   \n",
       "4                                  0.026995   \n",
       "..                                      ...   \n",
       "151                                0.024585   \n",
       "152                                0.022767   \n",
       "153                                0.024932   \n",
       "154                                0.023666   \n",
       "155                                0.025248   \n",
       "\n",
       "     min_power_allocation_threshold_hour_21  \\\n",
       "0                                  0.017974   \n",
       "1                                  0.016491   \n",
       "2                                  0.015717   \n",
       "3                                  0.018600   \n",
       "4                                  0.018780   \n",
       "..                                      ...   \n",
       "151                                0.018599   \n",
       "152                                0.015509   \n",
       "153                                0.018660   \n",
       "154                                0.016832   \n",
       "155                                0.019203   \n",
       "\n",
       "     min_power_allocation_threshold_hour_22  \\\n",
       "0                                  0.011694   \n",
       "1                                  0.013300   \n",
       "2                                  0.014297   \n",
       "3                                  0.012989   \n",
       "4                                  0.011838   \n",
       "..                                      ...   \n",
       "151                                0.011740   \n",
       "152                                0.012645   \n",
       "153                                0.011985   \n",
       "154                                0.011507   \n",
       "155                                0.013776   \n",
       "\n",
       "     min_power_allocation_threshold_hour_23  \\\n",
       "0                                  0.008377   \n",
       "1                                  0.008419   \n",
       "2                                  0.009393   \n",
       "3                                  0.009390   \n",
       "4                                  0.009648   \n",
       "..                                      ...   \n",
       "151                                0.008790   \n",
       "152                                0.008262   \n",
       "153                                0.008489   \n",
       "154                                0.008696   \n",
       "155                                0.009361   \n",
       "\n",
       "     min_power_allocation_threshold_hour_24  \n",
       "0                                  0.007584  \n",
       "1                                  0.007873  \n",
       "2                                  0.007269  \n",
       "3                                  0.007824  \n",
       "4                                  0.007910  \n",
       "..                                      ...  \n",
       "151                                0.007704  \n",
       "152                                0.006989  \n",
       "153                                0.006952  \n",
       "154                                0.007386  \n",
       "155                                0.007000  \n",
       "\n",
       "[156 rows x 24 columns]"
      ]
     },
     "execution_count": 86,
     "metadata": {},
     "output_type": "execute_result"
    }
   ],
   "source": [
    "min_power_allocation_threshold_per_hh"
   ]
  },
  {
   "cell_type": "code",
   "execution_count": 87,
   "metadata": {},
   "outputs": [],
   "source": [
    "min_power_allocation_threshold_per_hh.to_excel('min_power_allocation_threshold_per_hh.xlsx', index=False)"
   ]
  },
  {
   "cell_type": "code",
   "execution_count": 89,
   "metadata": {},
   "outputs": [],
   "source": [
    "\n",
    "balance_power = ss_power - sum_min_power_allocation.values"
   ]
  },
  {
   "cell_type": "code",
   "execution_count": 90,
   "metadata": {},
   "outputs": [
    {
     "data": {
      "text/plain": [
       "array([4.08430725, 3.44348439, 2.90333553, 2.29983132, 1.97082861,\n",
       "       1.618528  , 1.66895982, 0.28065488, 0.38962356, 0.26718279,\n",
       "       4.01477752, 3.71703295, 4.18614907, 4.79866127, 3.18813572,\n",
       "       2.33512347, 3.98768557, 3.92666866, 2.72282769, 5.90228845,\n",
       "       9.55194566, 8.98380574, 7.1544184 , 4.96701638])"
      ]
     },
     "execution_count": 90,
     "metadata": {},
     "output_type": "execute_result"
    }
   ],
   "source": [
    "balance_power"
   ]
  },
  {
   "cell_type": "code",
   "execution_count": 91,
   "metadata": {},
   "outputs": [],
   "source": [
    "hours = [1, 2, 3, 4, 5, 6, 7, 8, 9, 10, 11, 12, 13, 14, 15, 16, 17, 18, 19, 20, 21, 22, 23, 24]"
   ]
  },
  {
   "cell_type": "code",
   "execution_count": 93,
   "metadata": {},
   "outputs": [],
   "source": [
    "balance_power_df = pd.DataFrame({'Hour': hours, 'Balance_Power': balance_power})"
   ]
  },
  {
   "cell_type": "code",
   "execution_count": 94,
   "metadata": {},
   "outputs": [],
   "source": [
    "\n",
    "balance_power_df.to_excel('balance_power.xlsx', index=False)"
   ]
  },
  {
   "cell_type": "markdown",
   "metadata": {},
   "source": [
    "## New power allocated cea"
   ]
  },
  {
   "cell_type": "code",
   "execution_count": 96,
   "metadata": {},
   "outputs": [],
   "source": [
    "ratios = pd.read_excel('ratios_per_household.xlsx')"
   ]
  },
  {
   "cell_type": "code",
   "execution_count": 97,
   "metadata": {},
   "outputs": [
    {
     "data": {
      "text/plain": [
       "array([[0.00620181, 0.0071648 , 0.00681386, ..., 0.00584619, 0.00608112,\n",
       "        0.0062117 ],\n",
       "       [0.00632693, 0.00690793, 0.00598925, ..., 0.00664955, 0.00611118,\n",
       "        0.00644844],\n",
       "       [0.00646603, 0.00597641, 0.0071819 , ..., 0.00714777, 0.0068186 ,\n",
       "        0.00595349],\n",
       "       ...,\n",
       "       [0.00673902, 0.00586273, 0.00662228, ..., 0.005992  , 0.00616244,\n",
       "        0.00569379],\n",
       "       [0.00710257, 0.0067259 , 0.00712555, ..., 0.00575318, 0.00631254,\n",
       "        0.00604949],\n",
       "       [0.006154  , 0.00698458, 0.00712908, ..., 0.00688745, 0.00679526,\n",
       "        0.00573307]])"
      ]
     },
     "execution_count": 97,
     "metadata": {},
     "output_type": "execute_result"
    }
   ],
   "source": [
    "ratios.values"
   ]
  },
  {
   "cell_type": "code",
   "execution_count": 95,
   "metadata": {},
   "outputs": [
    {
     "data": {
      "text/plain": [
       "array([4.08430725, 3.44348439, 2.90333553, 2.29983132, 1.97082861,\n",
       "       1.618528  , 1.66895982, 0.28065488, 0.38962356, 0.26718279,\n",
       "       4.01477752, 3.71703295, 4.18614907, 4.79866127, 3.18813572,\n",
       "       2.33512347, 3.98768557, 3.92666866, 2.72282769, 5.90228845,\n",
       "       9.55194566, 8.98380574, 7.1544184 , 4.96701638])"
      ]
     },
     "execution_count": 95,
     "metadata": {},
     "output_type": "execute_result"
    }
   ],
   "source": [
    "balance_power"
   ]
  },
  {
   "cell_type": "code",
   "execution_count": 98,
   "metadata": {},
   "outputs": [],
   "source": [
    "\n",
    "ratio_times_balance_power = np.multiply(ratios.values, balance_power)"
   ]
  },
  {
   "cell_type": "code",
   "execution_count": 99,
   "metadata": {},
   "outputs": [
    {
     "data": {
      "text/plain": [
       "array([[0.02533009, 0.02467187, 0.01978291, ..., 0.05252104, 0.0435069 ,\n",
       "        0.03085361],\n",
       "       [0.02584111, 0.02378736, 0.01738881, ..., 0.05973829, 0.04372193,\n",
       "        0.0320295 ],\n",
       "       [0.02640924, 0.02057968, 0.02085147, ..., 0.06421418, 0.04878315,\n",
       "        0.02957108],\n",
       "       ...,\n",
       "       [0.02752423, 0.02018823, 0.01922669, ..., 0.053831  , 0.04408869,\n",
       "        0.02828116],\n",
       "       [0.02900907, 0.02316055, 0.02068785, ..., 0.05168545, 0.04516256,\n",
       "        0.03004794],\n",
       "       [0.02513482, 0.02405129, 0.02069811, ..., 0.06187555, 0.04861614,\n",
       "        0.02847625]])"
      ]
     },
     "execution_count": 99,
     "metadata": {},
     "output_type": "execute_result"
    }
   ],
   "source": [
    "ratio_times_balance_power"
   ]
  },
  {
   "cell_type": "code",
   "execution_count": 102,
   "metadata": {},
   "outputs": [
    {
     "data": {
      "text/plain": [
       "array([[0.00649759, 0.00693922, 0.00621876, ..., 0.01169352, 0.00837724,\n",
       "        0.00758438],\n",
       "       [0.00662867, 0.00669044, 0.00546618, ..., 0.0133004 , 0.00841865,\n",
       "        0.00787344],\n",
       "       [0.00677441, 0.00578825, 0.00655467, ..., 0.01429693, 0.00939318,\n",
       "        0.00726911],\n",
       "       ...,\n",
       "       [0.00706042, 0.00567815, 0.00604392, ..., 0.01198517, 0.00848927,\n",
       "        0.00695203],\n",
       "       [0.00744131, 0.00651414, 0.00650323, ..., 0.01150748, 0.00869604,\n",
       "        0.00738633],\n",
       "       [0.0064475 , 0.00676467, 0.00650646, ..., 0.01377625, 0.00936103,\n",
       "        0.00699998]])"
      ]
     },
     "execution_count": 102,
     "metadata": {},
     "output_type": "execute_result"
    }
   ],
   "source": [
    "min_power_allocation_threshold_per_hh.values"
   ]
  },
  {
   "cell_type": "code",
   "execution_count": 100,
   "metadata": {},
   "outputs": [],
   "source": [
    "x = min_power_allocation_threshold_per_hh.values + ratio_times_balance_power"
   ]
  },
  {
   "cell_type": "code",
   "execution_count": 101,
   "metadata": {},
   "outputs": [
    {
     "data": {
      "text/plain": [
       "array([[0.03182767, 0.03161109, 0.02600167, ..., 0.06421456, 0.05188414,\n",
       "        0.03843799],\n",
       "       [0.03246979, 0.0304778 , 0.02285499, ..., 0.07303868, 0.05214058,\n",
       "        0.03990294],\n",
       "       [0.03318365, 0.02636793, 0.02740614, ..., 0.07851111, 0.05817633,\n",
       "        0.03684019],\n",
       "       ...,\n",
       "       [0.03458466, 0.02586637, 0.0252706 , ..., 0.06581617, 0.05257796,\n",
       "        0.03523319],\n",
       "       [0.03645038, 0.02967469, 0.02719109, ..., 0.06319293, 0.05385861,\n",
       "        0.03743427],\n",
       "       [0.03158232, 0.03081597, 0.02720456, ..., 0.07565179, 0.05797716,\n",
       "        0.03547624]])"
      ]
     },
     "execution_count": 101,
     "metadata": {},
     "output_type": "execute_result"
    }
   ],
   "source": [
    "x"
   ]
  },
  {
   "cell_type": "code",
   "execution_count": 103,
   "metadata": {},
   "outputs": [],
   "source": [
    "x_max = np.maximum(min_power_allocation_threshold_per_hh.values, x)"
   ]
  },
  {
   "cell_type": "code",
   "execution_count": 104,
   "metadata": {},
   "outputs": [
    {
     "data": {
      "text/plain": [
       "array([[0.03182767, 0.03161109, 0.02600167, ..., 0.06421456, 0.05188414,\n",
       "        0.03843799],\n",
       "       [0.03246979, 0.0304778 , 0.02285499, ..., 0.07303868, 0.05214058,\n",
       "        0.03990294],\n",
       "       [0.03318365, 0.02636793, 0.02740614, ..., 0.07851111, 0.05817633,\n",
       "        0.03684019],\n",
       "       ...,\n",
       "       [0.03458466, 0.02586637, 0.0252706 , ..., 0.06581617, 0.05257796,\n",
       "        0.03523319],\n",
       "       [0.03645038, 0.02967469, 0.02719109, ..., 0.06319293, 0.05385861,\n",
       "        0.03743427],\n",
       "       [0.03158232, 0.03081597, 0.02720456, ..., 0.07565179, 0.05797716,\n",
       "        0.03547624]])"
      ]
     },
     "execution_count": 104,
     "metadata": {},
     "output_type": "execute_result"
    }
   ],
   "source": [
    "x_max"
   ]
  },
  {
   "cell_type": "code",
   "execution_count": 105,
   "metadata": {},
   "outputs": [],
   "source": [
    "\n",
    "min_power_allocated_cea = np.minimum(min_hh_dd.values, x_max)\n",
    "max_power_allocated_cea = np.minimum(max_hh_dd.values, x_max)"
   ]
  },
  {
   "cell_type": "code",
   "execution_count": 106,
   "metadata": {},
   "outputs": [
    {
     "data": {
      "text/plain": [
       "array([[0.01076819, 0.01200107, 0.01159449, ..., 0.01905833, 0.01615019,\n",
       "        0.01304208],\n",
       "       [0.01098544, 0.01157082, 0.01019134, ..., 0.02167726, 0.01623001,\n",
       "        0.01353914],\n",
       "       [0.01122696, 0.01001052, 0.01222076, ..., 0.02330142, 0.01810878,\n",
       "        0.01249994],\n",
       "       ...,\n",
       "       [0.01170096, 0.0098201 , 0.01126849, ..., 0.01953368, 0.01636615,\n",
       "        0.01195468],\n",
       "       [0.01233218, 0.01126592, 0.01212486, ..., 0.01875512, 0.01676479,\n",
       "        0.01270151],\n",
       "       [0.01068518, 0.0116992 , 0.01213087, ..., 0.0224528 , 0.01804679,\n",
       "        0.01203715]])"
      ]
     },
     "execution_count": 106,
     "metadata": {},
     "output_type": "execute_result"
    }
   ],
   "source": [
    "min_power_allocated_cea"
   ]
  },
  {
   "cell_type": "code",
   "execution_count": 107,
   "metadata": {},
   "outputs": [
    {
     "data": {
      "text/plain": [
       "array([[0.01438821, 0.01565863, 0.01345521, ..., 0.0267772 , 0.01727162,\n",
       "        0.01768076],\n",
       "       [0.01467849, 0.01509725, 0.01182687, ..., 0.03045682, 0.01735698,\n",
       "        0.01835461],\n",
       "       [0.0150012 , 0.01306142, 0.01418198, ..., 0.0327388 , 0.01936621,\n",
       "        0.0169458 ],\n",
       "       ...,\n",
       "       [0.01563455, 0.01281297, 0.01307689, ..., 0.02744506, 0.01750258,\n",
       "        0.01620661],\n",
       "       [0.01647798, 0.01469943, 0.0140707 , ..., 0.02635118, 0.01792889,\n",
       "        0.01721907],\n",
       "       [0.01427729, 0.01526476, 0.01407767, ..., 0.03154647, 0.01929991,\n",
       "        0.01631841]])"
      ]
     },
     "execution_count": 107,
     "metadata": {},
     "output_type": "execute_result"
    }
   ],
   "source": [
    "max_power_allocated_cea"
   ]
  },
  {
   "cell_type": "code",
   "execution_count": 108,
   "metadata": {},
   "outputs": [],
   "source": [
    "columns_min_cea = ['min_power_allocated_cea_hour_1',\n",
    "                   'min_power_allocated_cea_hour_2',\n",
    "                   'min_power_allocated_cea_hour_3',\n",
    "                   'min_power_allocated_cea_hour_4',\n",
    "                   'min_power_allocated_cea_hour_5',\n",
    "                   'min_power_allocated_cea_hour_6',\n",
    "                   'min_power_allocated_cea_hour_7',\n",
    "                   'min_power_allocated_cea_hour_8',\n",
    "                   'min_power_allocated_cea_hour_9',\n",
    "                   'min_power_allocated_cea_hour_10',\n",
    "                   'min_power_allocated_cea_hour_11',\n",
    "                   'min_power_allocated_cea_hour_12',\n",
    "                   'min_power_allocated_cea_hour_13',\n",
    "                   'min_power_allocated_cea_hour_14',\n",
    "                   'min_power_allocated_cea_hour_15',\n",
    "                   'min_power_allocated_cea_hour_16',\n",
    "                   'min_power_allocated_cea_hour_17',\n",
    "                   'min_power_allocated_cea_hour_18',\n",
    "                   'min_power_allocated_cea_hour_19',\n",
    "                   'min_power_allocated_cea_hour_20',\n",
    "                   'min_power_allocated_cea_hour_21',\n",
    "                   'min_power_allocated_cea_hour_22',\n",
    "                   'min_power_allocated_cea_hour_23',\n",
    "                   'min_power_allocated_cea_hour_24',]\n",
    "\n",
    "columns_max_cea = ['max_power_allocated_cea_hour_1',\n",
    "                   'max_power_allocated_cea_hour_2',\n",
    "                   'max_power_allocated_cea_hour_3',\n",
    "                   'max_power_allocated_cea_hour_4',\n",
    "                   'max_power_allocated_cea_hour_5',\n",
    "                   'max_power_allocated_cea_hour_6',\n",
    "                   'max_power_allocated_cea_hour_7',\n",
    "                   'max_power_allocated_cea_hour_8',\n",
    "                   'max_power_allocated_cea_hour_9',\n",
    "                   'max_power_allocated_cea_hour_10',\n",
    "                   'max_power_allocated_cea_hour_11',\n",
    "                   'max_power_allocated_cea_hour_12',\n",
    "                   'max_power_allocated_cea_hour_13',\n",
    "                   'max_power_allocated_cea_hour_14',\n",
    "                   'max_power_allocated_cea_hour_15',\n",
    "                   'max_power_allocated_cea_hour_16',\n",
    "                   'max_power_allocated_cea_hour_17',\n",
    "                   'max_power_allocated_cea_hour_18',\n",
    "                   'max_power_allocated_cea_hour_19',\n",
    "                   'max_power_allocated_cea_hour_20',\n",
    "                   'max_power_allocated_cea_hour_21',\n",
    "                   'max_power_allocated_cea_hour_22',\n",
    "                   'max_power_allocated_cea_hour_23',\n",
    "                   'max_power_allocated_cea_hour_24',]"
   ]
  },
  {
   "cell_type": "code",
   "execution_count": 109,
   "metadata": {},
   "outputs": [],
   "source": [
    "power_allocated_cea_min = pd.DataFrame(min_power_allocated_cea, columns=columns_min_cea)\n",
    "power_allocated_cea_max = pd.DataFrame(max_power_allocated_cea, columns=columns_max_cea)"
   ]
  },
  {
   "cell_type": "code",
   "execution_count": 110,
   "metadata": {},
   "outputs": [],
   "source": [
    "power_allocated_cea_min.to_excel('power_allocated_cea_min.xlsx', index=False)\n",
    "power_allocated_cea_max.to_excel('power_allocated_cea_max.xlsx', index=False)"
   ]
  },
  {
   "cell_type": "code",
   "execution_count": 111,
   "metadata": {},
   "outputs": [],
   "source": [
    "unmet_demand_cea_min = min_hh_dd.values - power_allocated_cea_min.values\n",
    "unmet_demand_cea_max = max_hh_dd.values - power_allocated_cea_max.values"
   ]
  },
  {
   "cell_type": "code",
   "execution_count": 112,
   "metadata": {},
   "outputs": [],
   "source": [
    "column_min = ['min_unmet_demand_cea_hour_1',\n",
    "                'min_unmet_demand_cea_hour_2',\n",
    "                'min_unmet_demand_cea_hour_3',\n",
    "                'min_unmet_demand_cea_hour_4',\n",
    "                'min_unmet_demand_cea_hour_5',\n",
    "                'min_unmet_demand_cea_hour_6',\n",
    "                'min_unmet_demand_cea_hour_7',\n",
    "                'min_unmet_demand_cea_hour_8',\n",
    "                'min_unmet_demand_cea_hour_9',\n",
    "                'min_unmet_demand_cea_hour_10',\n",
    "                'min_unmet_demand_cea_hour_11',\n",
    "                'min_unmet_demand_cea_hour_12',\n",
    "                'min_unmet_demand_cea_hour_13',\n",
    "                'min_unmet_demand_cea_hour_14',\n",
    "                'min_unmet_demand_cea_hour_15',\n",
    "                'min_unmet_demand_cea_hour_16',\n",
    "                'min_unmet_demand_cea_hour_17',\n",
    "                'min_unmet_demand_cea_hour_18',\n",
    "                'min_unmet_demand_cea_hour_19',\n",
    "                'min_unmet_demand_cea_hour_20',\n",
    "                'min_unmet_demand_cea_hour_21',\n",
    "                'min_unmet_demand_cea_hour_22',\n",
    "                'min_unmet_demand_cea_hour_23',\n",
    "                'min_unmet_demand_cea_hour_24']\n",
    "\n",
    "\n",
    "column_max = ['max_unmet_demand_cea_hour_1',\n",
    "                'max_unmet_demand_cea_hour_2',\n",
    "                'max_unmet_demand_cea_hour_3',\n",
    "                'max_unmet_demand_cea_hour_4',\n",
    "                'max_unmet_demand_cea_hour_5',\n",
    "                'max_unmet_demand_cea_hour_6',\n",
    "                'max_unmet_demand_cea_hour_7',\n",
    "                'max_unmet_demand_cea_hour_8',\n",
    "                'max_unmet_demand_cea_hour_9',\n",
    "                'max_unmet_demand_cea_hour_10',\n",
    "                'max_unmet_demand_cea_hour_11',\n",
    "                'max_unmet_demand_cea_hour_12',\n",
    "                'max_unmet_demand_cea_hour_13',\n",
    "                'max_unmet_demand_cea_hour_14',\n",
    "                'max_unmet_demand_cea_hour_15',\n",
    "                'max_unmet_demand_cea_hour_16',\n",
    "                'max_unmet_demand_cea_hour_17',\n",
    "                'max_unmet_demand_cea_hour_18',\n",
    "                'max_unmet_demand_cea_hour_19',\n",
    "                'max_unmet_demand_cea_hour_20',\n",
    "                'max_unmet_demand_cea_hour_21',\n",
    "                'max_unmet_demand_cea_hour_22',\n",
    "                'max_unmet_demand_cea_hour_23',\n",
    "                'max_unmet_demand_cea_hour_24']\n"
   ]
  },
  {
   "cell_type": "code",
   "execution_count": 113,
   "metadata": {},
   "outputs": [],
   "source": [
    "unmet_demand_cea_min = pd.DataFrame(unmet_demand_cea_min, columns=column_min)\n",
    "unmet_demand_cea_max = pd.DataFrame(unmet_demand_cea_max, columns=column_max)"
   ]
  },
  {
   "cell_type": "code",
   "execution_count": 114,
   "metadata": {},
   "outputs": [],
   "source": [
    "unmet_demand_cea_min.to_excel('unmet_demand_cea_min.xlsx', index=False)\n",
    "unmet_demand_cea_max.to_excel('unmet_demand_cea_max.xlsx', index=False)"
   ]
  }
 ],
 "metadata": {
  "kernelspec": {
   "display_name": "kidney",
   "language": "python",
   "name": "python3"
  },
  "language_info": {
   "codemirror_mode": {
    "name": "ipython",
    "version": 3
   },
   "file_extension": ".py",
   "mimetype": "text/x-python",
   "name": "python",
   "nbconvert_exporter": "python",
   "pygments_lexer": "ipython3",
   "version": "3.8.19"
  }
 },
 "nbformat": 4,
 "nbformat_minor": 2
}
