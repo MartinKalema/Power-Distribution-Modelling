{
 "cells": [
  {
   "cell_type": "code",
   "execution_count": 1,
   "metadata": {},
   "outputs": [],
   "source": [
    "import pandas as pd\n",
    "import numpy as np\n",
    "from jupyter_datatables import init_datatables_mode"
   ]
  },
  {
   "cell_type": "code",
   "execution_count": null,
   "metadata": {},
   "outputs": [],
   "source": [
    "power_allocated_cea_min = pd.read_excel('power_allocated_cea_min.xlsx')\n",
    "power_allocated_cea_max = pd.read_excel('power_allocated_cea_max.xlsx')\n",
    "max_hh_dd = pd.read_excel('max_hh_demand_reformatted.xlsx')\n",
    "min_hh_dd = pd.read_excel('min_hh_demand_reformatted.xlsx')\n",
    "avg_hh_dd = pd.read_excel('avg_hh_demand_reformatted.xlsx')\n",
    "demand_supply = pd.read_excel('Demand_Supply.xlsx')"
   ]
  },
  {
   "cell_type": "code",
   "execution_count": null,
   "metadata": {},
   "outputs": [],
   "source": [
    "# sum columns for each table\n",
    "sum_max_hh_dd = max_hh_dd.sum()\n",
    "sum_min_hh_dd = min_hh_dd.sum()"
   ]
  },
  {
   "cell_type": "code",
   "execution_count": null,
   "metadata": {},
   "outputs": [],
   "source": [
    "# Power supplied\n",
    "ss_power_values = demand_supply['SS_Power']"
   ]
  },
  {
   "cell_type": "code",
   "execution_count": null,
   "metadata": {},
   "outputs": [],
   "source": [
    "sum_power_allocated_cea_min = power_allocated_cea_min.sum()\n",
    "sum_power_allocated_cea_max = power_allocated_cea_max.sum()"
   ]
  },
  {
   "cell_type": "markdown",
   "metadata": {},
   "source": [
    "## Min"
   ]
  },
  {
   "cell_type": "code",
   "execution_count": null,
   "metadata": {},
   "outputs": [],
   "source": [
    "import matplotlib.pyplot as plt\n",
    "\n",
    "fig, ax = plt.subplots()\n",
    "\n",
    "# Plot the mean with a very thick line\n",
    "ax.plot(range(1, 25), ss_power_values, color='red', linewidth=1, label='Total Power Supplied')\n",
    "ax.plot(range(1, 25), sum_power_allocated_cea_min, color='green', linewidth=1, label='Power Allocated By CEA')\n",
    "ax.plot(range(1, 25), sum_min_hh_dd, color='blue', linewidth=1, label='Minimum Hourly Demand', linestyle=\"--\")\n",
    "\n",
    "# Shade the space between the two lines\n",
    "ax.fill_between(range(1, 25), ss_power_values, sum_power_allocated_cea_min, color='lightgray', alpha=0.3)\n",
    "\n",
    "# Set the axis labels and title\n",
    "ax.set_xlabel('Hour')\n",
    "ax.set_ylabel('Power Supply')\n",
    "ax.set_title('Power Supply against Power Allocated By CEA & Minimum Required')\n",
    "\n",
    "# legend\n",
    "ax.legend()\n",
    "\n",
    "# save\n",
    "plt.savefig('power_supply_against_power_allocated_by_cea_and_minimum_required.png')\n",
    "\n",
    "# Show the plot\n",
    "plt.show()"
   ]
  },
  {
   "cell_type": "markdown",
   "metadata": {},
   "source": [
    "## Max"
   ]
  },
  {
   "cell_type": "code",
   "execution_count": null,
   "metadata": {},
   "outputs": [],
   "source": [
    "import matplotlib.pyplot as plt\n",
    "\n",
    "fig, ax = plt.subplots()\n",
    "\n",
    "# Plot the mean with a very thick line\n",
    "ax.plot(range(1, 25), ss_power_values, color='red', linewidth=1, label='Total Power Supplied')\n",
    "ax.plot(range(1, 25), sum_power_allocated_cea_max, color='green', linewidth=1, label='Power Allocated By CEA')\n",
    "ax.plot(range(1, 25), sum_max_hh_dd, color='blue', linewidth=1, label='Maximum Hourly Demand', linestyle=\"--\")\n",
    "\n",
    "# Shade the space between the two lines\n",
    "ax.fill_between(range(1, 25), ss_power_values, sum_power_allocated_cea_max, color='lightgray', alpha=0.3)\n",
    "\n",
    "# Set the axis labels and title\n",
    "ax.set_xlabel('Hour')\n",
    "ax.set_ylabel('Power Supply')\n",
    "ax.set_title('Power Supply against Power Allocated By CEA & Maximum Required')\n",
    "\n",
    "# legend\n",
    "ax.legend()\n",
    "\n",
    "# save\n",
    "plt.savefig('power_supply_against_power_allocated_by_cea_and_maximum_required.png')\n",
    "\n",
    "# Show the plot\n",
    "plt.show()"
   ]
  }
 ],
 "metadata": {
  "kernelspec": {
   "display_name": "kidney",
   "language": "python",
   "name": "python3"
  },
  "language_info": {
   "codemirror_mode": {
    "name": "ipython",
    "version": 3
   },
   "file_extension": ".py",
   "mimetype": "text/x-python",
   "name": "python",
   "nbconvert_exporter": "python",
   "pygments_lexer": "ipython3",
   "version": "3.8.19"
  }
 },
 "nbformat": 4,
 "nbformat_minor": 2
}
